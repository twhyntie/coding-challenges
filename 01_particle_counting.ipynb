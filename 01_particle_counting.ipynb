{
 "cells": [
  {
   "cell_type": "markdown",
   "metadata": {},
   "source": [
    "# Challenge 01: Particle Counting\n",
    "The Timepix hybrid silicon pixel detector is an impressive bit of kit. Developed at [CERN](http://home.cern) by the [Medipix Collaboration](http://medipix.web.cern.ch/), and used in the Large Hadron Collider (LHC), it can detect and visualise ionising radiation in real time. In this challenge, we will use code to count and identify different types of radiation emitted by a radioactive notebook at the Royal Institution of Great Britain.\n",
    "<br />\n",
    "<img src='./assets/images/ri_crookes_notebook_setup.jpg' style='width: 256px' />\n",
    "<p style='text-align:center;'><em>Figure 1: A CERN@school MX-10 detector (left) mounted above one of William Crookes' notebooks at the Royal Institution of Great Britain. You can also see a Geiger counter to the right</em>.</p>\n",
    "\n",
    "Ionising radiation, such as alphas (helium nuclei), betas (electrons and positrons) and gammas (photons), registers as different patterns of pixels in each frame of data. The pixel information is recorded in a text file with the _x_ and _y_ position of the hit on the sensor and the count value `C` of the hit, which is related to the energy of the radiation.\n",
    "\n",
    "We have provided data from a frame recorded _in one second_ from the above experimental setup. We can read this data into Python as follows:"
   ]
  },
  {
   "cell_type": "code",
   "execution_count": 1,
   "metadata": {
    "collapsed": false
   },
   "outputs": [
    {
     "data": {
      "text/html": [
       "<div>\n",
       "<table border=\"1\" class=\"dataframe\">\n",
       "  <thead>\n",
       "    <tr style=\"text-align: right;\">\n",
       "      <th></th>\n",
       "      <th>x</th>\n",
       "      <th>y</th>\n",
       "      <th>C</th>\n",
       "    </tr>\n",
       "  </thead>\n",
       "  <tbody>\n",
       "    <tr>\n",
       "      <th>0</th>\n",
       "      <td>24</td>\n",
       "      <td>9</td>\n",
       "      <td>60</td>\n",
       "    </tr>\n",
       "    <tr>\n",
       "      <th>1</th>\n",
       "      <td>25</td>\n",
       "      <td>9</td>\n",
       "      <td>27</td>\n",
       "    </tr>\n",
       "    <tr>\n",
       "      <th>2</th>\n",
       "      <td>24</td>\n",
       "      <td>10</td>\n",
       "      <td>47</td>\n",
       "    </tr>\n",
       "    <tr>\n",
       "      <th>3</th>\n",
       "      <td>25</td>\n",
       "      <td>10</td>\n",
       "      <td>55</td>\n",
       "    </tr>\n",
       "    <tr>\n",
       "      <th>4</th>\n",
       "      <td>26</td>\n",
       "      <td>10</td>\n",
       "      <td>1</td>\n",
       "    </tr>\n",
       "  </tbody>\n",
       "</table>\n",
       "</div>"
      ],
      "text/plain": [
       "    x   y   C\n",
       "0  24   9  60\n",
       "1  25   9  27\n",
       "2  24  10  47\n",
       "3  25  10  55\n",
       "4  26  10   1"
      ]
     },
     "execution_count": 1,
     "metadata": {},
     "output_type": "execute_result"
    }
   ],
   "source": [
    "# Import the data analysis tools we need from the Pandas toolkit.\n",
    "import pandas as pd\n",
    "\n",
    "## Our pixel data stored as a Panda DataFrame.\n",
    "df000 = pd.read_table('./data/crookes/data000.txt', header=None, names=[\"x\", \"y\", \"C\"])\n",
    "\n",
    "# Show the first five rows of pixel data.\n",
    "df000.head()"
   ]
  },
  {
   "cell_type": "markdown",
   "metadata": {},
   "source": [
    "The `DataFrame` object provides a convenient wrapper for the pixel data read from the raw text file the detector produced. For example, we can find out how many pixels there are in total in the frame:"
   ]
  },
  {
   "cell_type": "code",
   "execution_count": 2,
   "metadata": {
    "collapsed": false
   },
   "outputs": [
    {
     "name": "stdout",
     "output_type": "stream",
     "text": [
      "There are 735 pixels in the data frame.\n"
     ]
    }
   ],
   "source": [
    "print(\"There are %d pixels in the data frame.\" % (len(df000)))"
   ]
  },
  {
   "cell_type": "markdown",
   "metadata": {
    "collapsed": true
   },
   "source": [
    "Of course, what we're really interested in is what the pixels look like as a whole so we can see the patterns and start to identify what has been detected. We've written some code to do this for you:"
   ]
  },
  {
   "cell_type": "code",
   "execution_count": 3,
   "metadata": {
    "collapsed": false,
    "scrolled": true
   },
   "outputs": [
    {
     "data": {
      "image/png": "[encoded data removed]",
      "text/plain": [
       "<matplotlib.figure.Figure at 0x7f9cd0903310>"
      ]
     },
     "metadata": {},
     "output_type": "display_data"
    }
   ],
   "source": [
    "# Import a function that extracts a pixel dictionary from the data frame.\n",
    "from cernatschool.helpers import get_pixel_dictionary_from_dataframe\n",
    "\n",
    "# Import a function that makes an image from a pixel dictionary.\n",
    "from cernatschool.visualisation import make_frame_image\n",
    "\n",
    "# (This line just allows us to show images as we go...)\n",
    "%matplotlib inline\n",
    "\n",
    "## The pixel dictionary - contains the pixel information in the format {X:C}.\n",
    "pixel_dict = get_pixel_dictionary_from_dataframe(df000)\n",
    "\n",
    "# Make the frame image from the pixel dictionary.\n",
    "make_frame_image(pixel_dict)"
   ]
  },
  {
   "cell_type": "markdown",
   "metadata": {
    "collapsed": false,
    "scrolled": true
   },
   "source": [
    "And there you go! A 256 x 256 pixel image of the radiation detected in one second of recording data from above Crookes' notebook. The colours indicate how much energy was deposited in each pixel using the scale on the right of the image."
   ]
  },
  {
   "cell_type": "code",
   "execution_count": 4,
   "metadata": {
    "collapsed": true
   },
   "outputs": [],
   "source": [
    "# Exercise 1: Manual particle counting\n",
    "#\n",
    "# How many particles can you count in the above image? Write your answer below.\n",
    "#\n",
    "#"
   ]
  },
  {
   "cell_type": "markdown",
   "metadata": {},
   "source": [
    "Now, you should be able to make out three sorts of **clusters** - groups of pixels adjacent pixels - in the image, corresponding to the three types of radiation we'd expect to see from this measurement.\n",
    "\n",
    "Firstly, there are the **alphas**. Alpha radiation consists of helium nuclei - two protons and two neutrons with an overall charge of 2+. These deposit large amounts of energy in the detector. To cut a long story short, this results in many pixels being activated over a large area in the image, resulting in \"blobs\"  like these:"
   ]
  },
  {
   "cell_type": "code",
   "execution_count": 5,
   "metadata": {
    "collapsed": false,
    "scrolled": true
   },
   "outputs": [
    {
     "data": {
      "image/png": "[encoded data removed]",
      "text/plain": [
       "<matplotlib.figure.Figure at 0x7f9cd4371f90>"
      ]
     },
     "metadata": {},
     "output_type": "display_data"
    }
   ],
   "source": [
    "# Find the clusters - groups of adjacent pixels - in the data.\n",
    "from cernatschool.kluster import KlusterFinder\n",
    "\n",
    "# Get one of the alpha clusters.\n",
    "alpha_cluster_1 = KlusterFinder(pixel_dict, 256, 256).getListOfKlusters()[4]\n",
    "\n",
    "# Import a function for making an image of just one cluster.\n",
    "from cernatschool.visualisation import make_kluster_image\n",
    "\n",
    "# Make the image.\n",
    "make_kluster_image(alpha_cluster_1)"
   ]
  },
  {
   "cell_type": "markdown",
   "metadata": {},
   "source": [
    "Notice too how all of the energy is centred in the middle of the cluster.\n",
    "\n",
    "Secondly, we have **beta** radiation - electrons and positrons - that scatters through the silicon of the detector leaving curly tracks of pixels like in the following cluster:"
   ]
  },
  {
   "cell_type": "code",
   "execution_count": 6,
   "metadata": {
    "collapsed": false
   },
   "outputs": [
    {
     "data": {
      "image/png": "[encoded data removed]",
      "text/plain": [
       "<matplotlib.figure.Figure at 0x7f9cc35f6cd0>"
      ]
     },
     "metadata": {},
     "output_type": "display_data"
    }
   ],
   "source": [
    "# An example of a beta cluster from the data.\n",
    "beta_cluster_1 = KlusterFinder(pixel_dict, 256, 256).getListOfKlusters()[11]\n",
    "\n",
    "# Make the image!\n",
    "make_kluster_image(beta_cluster_1)"
   ]
  },
  {
   "cell_type": "markdown",
   "metadata": {
    "collapsed": true
   },
   "source": [
    "Finally, we have **gamma** radiation - photons that set off single pixels, or two, three of four when they hit the boundaries between pixels:"
   ]
  },
  {
   "cell_type": "code",
   "execution_count": 7,
   "metadata": {
    "collapsed": false
   },
   "outputs": [
    {
     "data": {
      "image/png": "[encoded data removed]",
      "text/plain": [
       "<matplotlib.figure.Figure at 0x7f9cc20763d0>"
      ]
     },
     "metadata": {},
     "output_type": "display_data"
    }
   ],
   "source": [
    "# An example of a tripixel gamma candidate.\n",
    "gamma_cluster_1 = KlusterFinder(pixel_dict, 256, 256).getListOfKlusters()[25]\n",
    "\n",
    "# Make the image!\n",
    "make_kluster_image(gamma_cluster_1)"
   ]
  },
  {
   "cell_type": "markdown",
   "metadata": {},
   "source": [
    "We can use the `KlusterFinder` Python object to find the clusters of pixels in the data, and the `make_kluster_image` function to make an image of the cluster that lets us look at it in more detail. Why not try looking at more clusters yourself?"
   ]
  },
  {
   "cell_type": "code",
   "execution_count": 8,
   "metadata": {
    "collapsed": false
   },
   "outputs": [
    {
     "data": {
      "image/png": "[encoded data removed]",
      "text/plain": [
       "<matplotlib.figure.Figure at 0x7f9cc23f0890>"
      ]
     },
     "metadata": {},
     "output_type": "display_data"
    }
   ],
   "source": [
    "# Exercise 2: Making your own cluster images\n",
    "#\n",
    "# Use code like the following to make your own cluster images from the data!\n",
    "#\n",
    "# First, let's make a Python list of the clusters:\n",
    "\n",
    "klusters = KlusterFinder(pixel_dict, 256, 256).getListOfKlusters()\n",
    "\n",
    "# We can now make an image by specifying the index in the list.\n",
    "# Try changing the number 12 to another number to see the different\n",
    "# clusters!\n",
    "\n",
    "make_kluster_image(klusters[12])"
   ]
  },
  {
   "cell_type": "markdown",
   "metadata": {},
   "source": [
    "It's fun to make the pictures of the clusters, but we can actually use code to do some important - but, dare we say, tedious - work for us. For example, how did you get on with the particle counting in Exercise 1? Our code makes tasks like this a lot easier..."
   ]
  },
  {
   "cell_type": "code",
   "execution_count": 9,
   "metadata": {
    "collapsed": false
   },
   "outputs": [
    {
     "name": "stdout",
     "output_type": "stream",
     "text": [
      "Number of clusters (particle) in the data frame: 34\n"
     ]
    }
   ],
   "source": [
    "print(\"Number of clusters (particle) in the data frame: %d\" % (len(klusters)))"
   ]
  },
  {
   "cell_type": "markdown",
   "metadata": {},
   "source": [
    "Did you get it right?\n",
    "\n",
    "Now, it turns out `KlusterFinder` is a bit cleverer than just counting the particles. It also does a bunch of calculations on the clusters that tell us something about the clusters themselves. For example, it calculates:\n",
    "\n",
    "* The **size** of the cluster (the number of pixels in the cluster);\n",
    "* The **position** of the centre of the cluster;\n",
    "* The **radius** of the cluster (the distance from the centre to the furthest pixel from the centre);\n",
    "* The **density** of the cluster (the number of pixels divided by the area of the circle defined by the cluster radius);\n",
    "* Whether or not the cluster is on the edge of the frame;\n",
    "* The fraction of pixels completely surrounded by other pixels in the cluster.\n",
    "\n",
    "We can make a `DataFrame` of these properties of the clusters and present it as a table:"
   ]
  },
  {
   "cell_type": "code",
   "execution_count": 10,
   "metadata": {
    "collapsed": false
   },
   "outputs": [
    {
     "data": {
      "text/html": [
       "<div>\n",
       "<table border=\"1\" class=\"dataframe\">\n",
       "  <thead>\n",
       "    <tr style=\"text-align: right;\">\n",
       "      <th></th>\n",
       "      <th>size</th>\n",
       "      <th>x_uw</th>\n",
       "      <th>y_uw</th>\n",
       "      <th>radius_uw</th>\n",
       "      <th>density_uw</th>\n",
       "      <th>isedgekluster</th>\n",
       "      <th>innerfrac</th>\n",
       "    </tr>\n",
       "  </thead>\n",
       "  <tbody>\n",
       "    <tr>\n",
       "      <th>0</th>\n",
       "      <td>104</td>\n",
       "      <td>146.673077</td>\n",
       "      <td>237.375000</td>\n",
       "      <td>8.550607</td>\n",
       "      <td>0.452782</td>\n",
       "      <td>False</td>\n",
       "      <td>0.451923</td>\n",
       "    </tr>\n",
       "    <tr>\n",
       "      <th>1</th>\n",
       "      <td>92</td>\n",
       "      <td>59.771739</td>\n",
       "      <td>250.130435</td>\n",
       "      <td>6.772995</td>\n",
       "      <td>0.638376</td>\n",
       "      <td>False</td>\n",
       "      <td>0.543478</td>\n",
       "    </tr>\n",
       "    <tr>\n",
       "      <th>2</th>\n",
       "      <td>73</td>\n",
       "      <td>184.657534</td>\n",
       "      <td>200.698630</td>\n",
       "      <td>5.056112</td>\n",
       "      <td>0.908949</td>\n",
       "      <td>False</td>\n",
       "      <td>0.520548</td>\n",
       "    </tr>\n",
       "    <tr>\n",
       "      <th>3</th>\n",
       "      <td>63</td>\n",
       "      <td>132.571429</td>\n",
       "      <td>208.142857</td>\n",
       "      <td>20.033645</td>\n",
       "      <td>0.049966</td>\n",
       "      <td>False</td>\n",
       "      <td>0.000000</td>\n",
       "    </tr>\n",
       "    <tr>\n",
       "      <th>4</th>\n",
       "      <td>50</td>\n",
       "      <td>27.620000</td>\n",
       "      <td>178.740000</td>\n",
       "      <td>4.036335</td>\n",
       "      <td>0.976890</td>\n",
       "      <td>False</td>\n",
       "      <td>0.440000</td>\n",
       "    </tr>\n",
       "    <tr>\n",
       "      <th>5</th>\n",
       "      <td>48</td>\n",
       "      <td>112.750000</td>\n",
       "      <td>116.000000</td>\n",
       "      <td>3.881044</td>\n",
       "      <td>1.014365</td>\n",
       "      <td>False</td>\n",
       "      <td>0.458333</td>\n",
       "    </tr>\n",
       "    <tr>\n",
       "      <th>6</th>\n",
       "      <td>44</td>\n",
       "      <td>163.863636</td>\n",
       "      <td>208.909091</td>\n",
       "      <td>3.911469</td>\n",
       "      <td>0.915426</td>\n",
       "      <td>False</td>\n",
       "      <td>0.431818</td>\n",
       "    </tr>\n",
       "    <tr>\n",
       "      <th>7</th>\n",
       "      <td>43</td>\n",
       "      <td>105.651163</td>\n",
       "      <td>49.325581</td>\n",
       "      <td>3.712927</td>\n",
       "      <td>0.992855</td>\n",
       "      <td>False</td>\n",
       "      <td>0.372093</td>\n",
       "    </tr>\n",
       "    <tr>\n",
       "      <th>8</th>\n",
       "      <td>39</td>\n",
       "      <td>168.538462</td>\n",
       "      <td>148.102564</td>\n",
       "      <td>3.575981</td>\n",
       "      <td>0.970788</td>\n",
       "      <td>False</td>\n",
       "      <td>0.384615</td>\n",
       "    </tr>\n",
       "    <tr>\n",
       "      <th>9</th>\n",
       "      <td>26</td>\n",
       "      <td>96.192308</td>\n",
       "      <td>253.384615</td>\n",
       "      <td>3.683684</td>\n",
       "      <td>0.609900</td>\n",
       "      <td>True</td>\n",
       "      <td>0.230769</td>\n",
       "    </tr>\n",
       "    <tr>\n",
       "      <th>10</th>\n",
       "      <td>19</td>\n",
       "      <td>170.315789</td>\n",
       "      <td>198.526316</td>\n",
       "      <td>3.357301</td>\n",
       "      <td>0.536566</td>\n",
       "      <td>False</td>\n",
       "      <td>0.000000</td>\n",
       "    </tr>\n",
       "    <tr>\n",
       "      <th>11</th>\n",
       "      <td>17</td>\n",
       "      <td>120.764706</td>\n",
       "      <td>161.058824</td>\n",
       "      <td>5.246848</td>\n",
       "      <td>0.196563</td>\n",
       "      <td>False</td>\n",
       "      <td>0.000000</td>\n",
       "    </tr>\n",
       "    <tr>\n",
       "      <th>12</th>\n",
       "      <td>16</td>\n",
       "      <td>25.687500</td>\n",
       "      <td>11.125000</td>\n",
       "      <td>2.977126</td>\n",
       "      <td>0.574613</td>\n",
       "      <td>False</td>\n",
       "      <td>0.062500</td>\n",
       "    </tr>\n",
       "    <tr>\n",
       "      <th>13</th>\n",
       "      <td>12</td>\n",
       "      <td>43.333333</td>\n",
       "      <td>213.083333</td>\n",
       "      <td>3.779513</td>\n",
       "      <td>0.267399</td>\n",
       "      <td>False</td>\n",
       "      <td>0.000000</td>\n",
       "    </tr>\n",
       "    <tr>\n",
       "      <th>14</th>\n",
       "      <td>12</td>\n",
       "      <td>232.666667</td>\n",
       "      <td>148.416667</td>\n",
       "      <td>3.019612</td>\n",
       "      <td>0.418918</td>\n",
       "      <td>False</td>\n",
       "      <td>0.000000</td>\n",
       "    </tr>\n",
       "    <tr>\n",
       "      <th>15</th>\n",
       "      <td>10</td>\n",
       "      <td>40.600000</td>\n",
       "      <td>13.100000</td>\n",
       "      <td>1.941649</td>\n",
       "      <td>0.844323</td>\n",
       "      <td>False</td>\n",
       "      <td>0.000000</td>\n",
       "    </tr>\n",
       "    <tr>\n",
       "      <th>16</th>\n",
       "      <td>8</td>\n",
       "      <td>173.625000</td>\n",
       "      <td>235.875000</td>\n",
       "      <td>1.976424</td>\n",
       "      <td>0.651899</td>\n",
       "      <td>False</td>\n",
       "      <td>0.000000</td>\n",
       "    </tr>\n",
       "    <tr>\n",
       "      <th>17</th>\n",
       "      <td>7</td>\n",
       "      <td>28.714286</td>\n",
       "      <td>69.714286</td>\n",
       "      <td>2.622509</td>\n",
       "      <td>0.323977</td>\n",
       "      <td>False</td>\n",
       "      <td>0.000000</td>\n",
       "    </tr>\n",
       "    <tr>\n",
       "      <th>18</th>\n",
       "      <td>6</td>\n",
       "      <td>62.000000</td>\n",
       "      <td>143.500000</td>\n",
       "      <td>1.118034</td>\n",
       "      <td>1.527887</td>\n",
       "      <td>False</td>\n",
       "      <td>0.000000</td>\n",
       "    </tr>\n",
       "    <tr>\n",
       "      <th>19</th>\n",
       "      <td>6</td>\n",
       "      <td>63.166667</td>\n",
       "      <td>159.166667</td>\n",
       "      <td>1.178511</td>\n",
       "      <td>1.375099</td>\n",
       "      <td>False</td>\n",
       "      <td>0.000000</td>\n",
       "    </tr>\n",
       "    <tr>\n",
       "      <th>20</th>\n",
       "      <td>6</td>\n",
       "      <td>110.166667</td>\n",
       "      <td>199.833333</td>\n",
       "      <td>1.178511</td>\n",
       "      <td>1.375099</td>\n",
       "      <td>False</td>\n",
       "      <td>0.000000</td>\n",
       "    </tr>\n",
       "    <tr>\n",
       "      <th>21</th>\n",
       "      <td>6</td>\n",
       "      <td>48.333333</td>\n",
       "      <td>13.833333</td>\n",
       "      <td>1.863390</td>\n",
       "      <td>0.550039</td>\n",
       "      <td>False</td>\n",
       "      <td>0.000000</td>\n",
       "    </tr>\n",
       "    <tr>\n",
       "      <th>22</th>\n",
       "      <td>4</td>\n",
       "      <td>34.500000</td>\n",
       "      <td>101.500000</td>\n",
       "      <td>0.707107</td>\n",
       "      <td>2.546479</td>\n",
       "      <td>False</td>\n",
       "      <td>0.000000</td>\n",
       "    </tr>\n",
       "    <tr>\n",
       "      <th>23</th>\n",
       "      <td>4</td>\n",
       "      <td>170.000000</td>\n",
       "      <td>186.500000</td>\n",
       "      <td>1.118034</td>\n",
       "      <td>1.018592</td>\n",
       "      <td>False</td>\n",
       "      <td>0.000000</td>\n",
       "    </tr>\n",
       "    <tr>\n",
       "      <th>24</th>\n",
       "      <td>3</td>\n",
       "      <td>0.000000</td>\n",
       "      <td>108.000000</td>\n",
       "      <td>1.000000</td>\n",
       "      <td>0.954930</td>\n",
       "      <td>True</td>\n",
       "      <td>0.000000</td>\n",
       "    </tr>\n",
       "    <tr>\n",
       "      <th>25</th>\n",
       "      <td>3</td>\n",
       "      <td>131.666667</td>\n",
       "      <td>243.333333</td>\n",
       "      <td>0.745356</td>\n",
       "      <td>1.718873</td>\n",
       "      <td>False</td>\n",
       "      <td>0.000000</td>\n",
       "    </tr>\n",
       "    <tr>\n",
       "      <th>26</th>\n",
       "      <td>3</td>\n",
       "      <td>214.333333</td>\n",
       "      <td>189.333333</td>\n",
       "      <td>0.745356</td>\n",
       "      <td>1.718873</td>\n",
       "      <td>False</td>\n",
       "      <td>0.000000</td>\n",
       "    </tr>\n",
       "    <tr>\n",
       "      <th>27</th>\n",
       "      <td>3</td>\n",
       "      <td>134.666667</td>\n",
       "      <td>14.666667</td>\n",
       "      <td>0.745356</td>\n",
       "      <td>1.718873</td>\n",
       "      <td>False</td>\n",
       "      <td>0.000000</td>\n",
       "    </tr>\n",
       "    <tr>\n",
       "      <th>28</th>\n",
       "      <td>2</td>\n",
       "      <td>94.000000</td>\n",
       "      <td>17.500000</td>\n",
       "      <td>0.500000</td>\n",
       "      <td>2.546479</td>\n",
       "      <td>False</td>\n",
       "      <td>0.000000</td>\n",
       "    </tr>\n",
       "    <tr>\n",
       "      <th>29</th>\n",
       "      <td>2</td>\n",
       "      <td>200.500000</td>\n",
       "      <td>37.000000</td>\n",
       "      <td>0.500000</td>\n",
       "      <td>2.546479</td>\n",
       "      <td>False</td>\n",
       "      <td>0.000000</td>\n",
       "    </tr>\n",
       "    <tr>\n",
       "      <th>30</th>\n",
       "      <td>1</td>\n",
       "      <td>16.000000</td>\n",
       "      <td>138.000000</td>\n",
       "      <td>0.000000</td>\n",
       "      <td>0.000000</td>\n",
       "      <td>False</td>\n",
       "      <td>0.000000</td>\n",
       "    </tr>\n",
       "    <tr>\n",
       "      <th>31</th>\n",
       "      <td>1</td>\n",
       "      <td>166.000000</td>\n",
       "      <td>91.000000</td>\n",
       "      <td>0.000000</td>\n",
       "      <td>0.000000</td>\n",
       "      <td>False</td>\n",
       "      <td>0.000000</td>\n",
       "    </tr>\n",
       "    <tr>\n",
       "      <th>32</th>\n",
       "      <td>1</td>\n",
       "      <td>138.000000</td>\n",
       "      <td>230.000000</td>\n",
       "      <td>0.000000</td>\n",
       "      <td>0.000000</td>\n",
       "      <td>False</td>\n",
       "      <td>0.000000</td>\n",
       "    </tr>\n",
       "    <tr>\n",
       "      <th>33</th>\n",
       "      <td>1</td>\n",
       "      <td>97.000000</td>\n",
       "      <td>135.000000</td>\n",
       "      <td>0.000000</td>\n",
       "      <td>0.000000</td>\n",
       "      <td>False</td>\n",
       "      <td>0.000000</td>\n",
       "    </tr>\n",
       "  </tbody>\n",
       "</table>\n",
       "</div>"
      ],
      "text/plain": [
       "    size        x_uw        y_uw  radius_uw  density_uw isedgekluster  \\\n",
       "0    104  146.673077  237.375000   8.550607    0.452782         False   \n",
       "1     92   59.771739  250.130435   6.772995    0.638376         False   \n",
       "2     73  184.657534  200.698630   5.056112    0.908949         False   \n",
       "3     63  132.571429  208.142857  20.033645    0.049966         False   \n",
       "4     50   27.620000  178.740000   4.036335    0.976890         False   \n",
       "5     48  112.750000  116.000000   3.881044    1.014365         False   \n",
       "6     44  163.863636  208.909091   3.911469    0.915426         False   \n",
       "7     43  105.651163   49.325581   3.712927    0.992855         False   \n",
       "8     39  168.538462  148.102564   3.575981    0.970788         False   \n",
       "9     26   96.192308  253.384615   3.683684    0.609900          True   \n",
       "10    19  170.315789  198.526316   3.357301    0.536566         False   \n",
       "11    17  120.764706  161.058824   5.246848    0.196563         False   \n",
       "12    16   25.687500   11.125000   2.977126    0.574613         False   \n",
       "13    12   43.333333  213.083333   3.779513    0.267399         False   \n",
       "14    12  232.666667  148.416667   3.019612    0.418918         False   \n",
       "15    10   40.600000   13.100000   1.941649    0.844323         False   \n",
       "16     8  173.625000  235.875000   1.976424    0.651899         False   \n",
       "17     7   28.714286   69.714286   2.622509    0.323977         False   \n",
       "18     6   62.000000  143.500000   1.118034    1.527887         False   \n",
       "19     6   63.166667  159.166667   1.178511    1.375099         False   \n",
       "20     6  110.166667  199.833333   1.178511    1.375099         False   \n",
       "21     6   48.333333   13.833333   1.863390    0.550039         False   \n",
       "22     4   34.500000  101.500000   0.707107    2.546479         False   \n",
       "23     4  170.000000  186.500000   1.118034    1.018592         False   \n",
       "24     3    0.000000  108.000000   1.000000    0.954930          True   \n",
       "25     3  131.666667  243.333333   0.745356    1.718873         False   \n",
       "26     3  214.333333  189.333333   0.745356    1.718873         False   \n",
       "27     3  134.666667   14.666667   0.745356    1.718873         False   \n",
       "28     2   94.000000   17.500000   0.500000    2.546479         False   \n",
       "29     2  200.500000   37.000000   0.500000    2.546479         False   \n",
       "30     1   16.000000  138.000000   0.000000    0.000000         False   \n",
       "31     1  166.000000   91.000000   0.000000    0.000000         False   \n",
       "32     1  138.000000  230.000000   0.000000    0.000000         False   \n",
       "33     1   97.000000  135.000000   0.000000    0.000000         False   \n",
       "\n",
       "    innerfrac  \n",
       "0    0.451923  \n",
       "1    0.543478  \n",
       "2    0.520548  \n",
       "3    0.000000  \n",
       "4    0.440000  \n",
       "5    0.458333  \n",
       "6    0.431818  \n",
       "7    0.372093  \n",
       "8    0.384615  \n",
       "9    0.230769  \n",
       "10   0.000000  \n",
       "11   0.000000  \n",
       "12   0.062500  \n",
       "13   0.000000  \n",
       "14   0.000000  \n",
       "15   0.000000  \n",
       "16   0.000000  \n",
       "17   0.000000  \n",
       "18   0.000000  \n",
       "19   0.000000  \n",
       "20   0.000000  \n",
       "21   0.000000  \n",
       "22   0.000000  \n",
       "23   0.000000  \n",
       "24   0.000000  \n",
       "25   0.000000  \n",
       "26   0.000000  \n",
       "27   0.000000  \n",
       "28   0.000000  \n",
       "29   0.000000  \n",
       "30   0.000000  \n",
       "31   0.000000  \n",
       "32   0.000000  \n",
       "33   0.000000  "
      ]
     },
     "execution_count": 10,
     "metadata": {},
     "output_type": "execute_result"
    }
   ],
   "source": [
    "# Import a function that makes a DataFrame of kluster information.\n",
    "from cernatschool.helpers import get_dataframe_of_klusters\n",
    "\n",
    "## The cluster DataFrame.\n",
    "kdf = get_dataframe_of_klusters(klusters)\n",
    "\n",
    "# Show the whole table, representing all 34 clusters.\n",
    "kdf"
   ]
  },
  {
   "cell_type": "markdown",
   "metadata": {},
   "source": [
    "That's quite a lot of information to take in - but you can use code to help. Want to find only the particles above a certain size? No problem."
   ]
  },
  {
   "cell_type": "code",
   "execution_count": 11,
   "metadata": {
    "collapsed": false
   },
   "outputs": [
    {
     "data": {
      "text/html": [
       "<div>\n",
       "<table border=\"1\" class=\"dataframe\">\n",
       "  <thead>\n",
       "    <tr style=\"text-align: right;\">\n",
       "      <th></th>\n",
       "      <th>size</th>\n",
       "      <th>x_uw</th>\n",
       "      <th>y_uw</th>\n",
       "      <th>radius_uw</th>\n",
       "      <th>density_uw</th>\n",
       "      <th>isedgekluster</th>\n",
       "      <th>innerfrac</th>\n",
       "    </tr>\n",
       "  </thead>\n",
       "  <tbody>\n",
       "    <tr>\n",
       "      <th>0</th>\n",
       "      <td>104</td>\n",
       "      <td>146.673077</td>\n",
       "      <td>237.375000</td>\n",
       "      <td>8.550607</td>\n",
       "      <td>0.452782</td>\n",
       "      <td>False</td>\n",
       "      <td>0.451923</td>\n",
       "    </tr>\n",
       "    <tr>\n",
       "      <th>1</th>\n",
       "      <td>92</td>\n",
       "      <td>59.771739</td>\n",
       "      <td>250.130435</td>\n",
       "      <td>6.772995</td>\n",
       "      <td>0.638376</td>\n",
       "      <td>False</td>\n",
       "      <td>0.543478</td>\n",
       "    </tr>\n",
       "    <tr>\n",
       "      <th>2</th>\n",
       "      <td>73</td>\n",
       "      <td>184.657534</td>\n",
       "      <td>200.698630</td>\n",
       "      <td>5.056112</td>\n",
       "      <td>0.908949</td>\n",
       "      <td>False</td>\n",
       "      <td>0.520548</td>\n",
       "    </tr>\n",
       "    <tr>\n",
       "      <th>3</th>\n",
       "      <td>63</td>\n",
       "      <td>132.571429</td>\n",
       "      <td>208.142857</td>\n",
       "      <td>20.033645</td>\n",
       "      <td>0.049966</td>\n",
       "      <td>False</td>\n",
       "      <td>0.000000</td>\n",
       "    </tr>\n",
       "    <tr>\n",
       "      <th>4</th>\n",
       "      <td>50</td>\n",
       "      <td>27.620000</td>\n",
       "      <td>178.740000</td>\n",
       "      <td>4.036335</td>\n",
       "      <td>0.976890</td>\n",
       "      <td>False</td>\n",
       "      <td>0.440000</td>\n",
       "    </tr>\n",
       "  </tbody>\n",
       "</table>\n",
       "</div>"
      ],
      "text/plain": [
       "   size        x_uw        y_uw  radius_uw  density_uw isedgekluster  \\\n",
       "0   104  146.673077  237.375000   8.550607    0.452782         False   \n",
       "1    92   59.771739  250.130435   6.772995    0.638376         False   \n",
       "2    73  184.657534  200.698630   5.056112    0.908949         False   \n",
       "3    63  132.571429  208.142857  20.033645    0.049966         False   \n",
       "4    50   27.620000  178.740000   4.036335    0.976890         False   \n",
       "\n",
       "   innerfrac  \n",
       "0   0.451923  \n",
       "1   0.543478  \n",
       "2   0.520548  \n",
       "3   0.000000  \n",
       "4   0.440000  "
      ]
     },
     "execution_count": 11,
     "metadata": {},
     "output_type": "execute_result"
    }
   ],
   "source": [
    "## Let's look for particles with a minimum size of 50 pixels.\n",
    "min_size = 50\n",
    "\n",
    "# Apply a filter to the table using the `loc` method and a conditional statement.\n",
    "kdf.loc[kdf['size'] >= min_size]"
   ]
  },
  {
   "cell_type": "markdown",
   "metadata": {},
   "source": [
    "Which particles are on the edge of the frame?"
   ]
  },
  {
   "cell_type": "code",
   "execution_count": 12,
   "metadata": {
    "collapsed": false
   },
   "outputs": [
    {
     "data": {
      "text/html": [
       "<div>\n",
       "<table border=\"1\" class=\"dataframe\">\n",
       "  <thead>\n",
       "    <tr style=\"text-align: right;\">\n",
       "      <th></th>\n",
       "      <th>size</th>\n",
       "      <th>x_uw</th>\n",
       "      <th>y_uw</th>\n",
       "      <th>radius_uw</th>\n",
       "      <th>density_uw</th>\n",
       "      <th>isedgekluster</th>\n",
       "      <th>innerfrac</th>\n",
       "    </tr>\n",
       "  </thead>\n",
       "  <tbody>\n",
       "    <tr>\n",
       "      <th>9</th>\n",
       "      <td>26</td>\n",
       "      <td>96.192308</td>\n",
       "      <td>253.384615</td>\n",
       "      <td>3.683684</td>\n",
       "      <td>0.60990</td>\n",
       "      <td>True</td>\n",
       "      <td>0.230769</td>\n",
       "    </tr>\n",
       "    <tr>\n",
       "      <th>24</th>\n",
       "      <td>3</td>\n",
       "      <td>0.000000</td>\n",
       "      <td>108.000000</td>\n",
       "      <td>1.000000</td>\n",
       "      <td>0.95493</td>\n",
       "      <td>True</td>\n",
       "      <td>0.000000</td>\n",
       "    </tr>\n",
       "  </tbody>\n",
       "</table>\n",
       "</div>"
      ],
      "text/plain": [
       "    size       x_uw        y_uw  radius_uw  density_uw isedgekluster  \\\n",
       "9     26  96.192308  253.384615   3.683684     0.60990          True   \n",
       "24     3   0.000000  108.000000   1.000000     0.95493          True   \n",
       "\n",
       "    innerfrac  \n",
       "9    0.230769  \n",
       "24   0.000000  "
      ]
     },
     "execution_count": 12,
     "metadata": {},
     "output_type": "execute_result"
    }
   ],
   "source": [
    "kdf.loc[(kdf['isedgekluster']==True)]"
   ]
  },
  {
   "cell_type": "markdown",
   "metadata": {},
   "source": [
    "Which we can check with:"
   ]
  },
  {
   "cell_type": "code",
   "execution_count": 13,
   "metadata": {
    "collapsed": false
   },
   "outputs": [
    {
     "data": {
      "image/png": "[encoded data removed]",
      "text/plain": [
       "<matplotlib.figure.Figure at 0x7f9cc23f07d0>"
      ]
     },
     "metadata": {},
     "output_type": "display_data"
    }
   ],
   "source": [
    "make_kluster_image(klusters[9])"
   ]
  },
  {
   "cell_type": "markdown",
   "metadata": {},
   "source": [
    "We can also combine our search criteria by using boolean operators in the `loc` method like so:"
   ]
  },
  {
   "cell_type": "code",
   "execution_count": 14,
   "metadata": {
    "collapsed": false
   },
   "outputs": [
    {
     "data": {
      "text/html": [
       "<div>\n",
       "<table border=\"1\" class=\"dataframe\">\n",
       "  <thead>\n",
       "    <tr style=\"text-align: right;\">\n",
       "      <th></th>\n",
       "      <th>size</th>\n",
       "      <th>x_uw</th>\n",
       "      <th>y_uw</th>\n",
       "      <th>radius_uw</th>\n",
       "      <th>density_uw</th>\n",
       "      <th>isedgekluster</th>\n",
       "      <th>innerfrac</th>\n",
       "    </tr>\n",
       "  </thead>\n",
       "  <tbody>\n",
       "    <tr>\n",
       "      <th>1</th>\n",
       "      <td>92</td>\n",
       "      <td>59.771739</td>\n",
       "      <td>250.130435</td>\n",
       "      <td>6.772995</td>\n",
       "      <td>0.638376</td>\n",
       "      <td>False</td>\n",
       "      <td>0.543478</td>\n",
       "    </tr>\n",
       "    <tr>\n",
       "      <th>2</th>\n",
       "      <td>73</td>\n",
       "      <td>184.657534</td>\n",
       "      <td>200.698630</td>\n",
       "      <td>5.056112</td>\n",
       "      <td>0.908949</td>\n",
       "      <td>False</td>\n",
       "      <td>0.520548</td>\n",
       "    </tr>\n",
       "    <tr>\n",
       "      <th>4</th>\n",
       "      <td>50</td>\n",
       "      <td>27.620000</td>\n",
       "      <td>178.740000</td>\n",
       "      <td>4.036335</td>\n",
       "      <td>0.976890</td>\n",
       "      <td>False</td>\n",
       "      <td>0.440000</td>\n",
       "    </tr>\n",
       "    <tr>\n",
       "      <th>5</th>\n",
       "      <td>48</td>\n",
       "      <td>112.750000</td>\n",
       "      <td>116.000000</td>\n",
       "      <td>3.881044</td>\n",
       "      <td>1.014365</td>\n",
       "      <td>False</td>\n",
       "      <td>0.458333</td>\n",
       "    </tr>\n",
       "    <tr>\n",
       "      <th>6</th>\n",
       "      <td>44</td>\n",
       "      <td>163.863636</td>\n",
       "      <td>208.909091</td>\n",
       "      <td>3.911469</td>\n",
       "      <td>0.915426</td>\n",
       "      <td>False</td>\n",
       "      <td>0.431818</td>\n",
       "    </tr>\n",
       "    <tr>\n",
       "      <th>7</th>\n",
       "      <td>43</td>\n",
       "      <td>105.651163</td>\n",
       "      <td>49.325581</td>\n",
       "      <td>3.712927</td>\n",
       "      <td>0.992855</td>\n",
       "      <td>False</td>\n",
       "      <td>0.372093</td>\n",
       "    </tr>\n",
       "    <tr>\n",
       "      <th>8</th>\n",
       "      <td>39</td>\n",
       "      <td>168.538462</td>\n",
       "      <td>148.102564</td>\n",
       "      <td>3.575981</td>\n",
       "      <td>0.970788</td>\n",
       "      <td>False</td>\n",
       "      <td>0.384615</td>\n",
       "    </tr>\n",
       "  </tbody>\n",
       "</table>\n",
       "</div>"
      ],
      "text/plain": [
       "   size        x_uw        y_uw  radius_uw  density_uw isedgekluster  \\\n",
       "1    92   59.771739  250.130435   6.772995    0.638376         False   \n",
       "2    73  184.657534  200.698630   5.056112    0.908949         False   \n",
       "4    50   27.620000  178.740000   4.036335    0.976890         False   \n",
       "5    48  112.750000  116.000000   3.881044    1.014365         False   \n",
       "6    44  163.863636  208.909091   3.911469    0.915426         False   \n",
       "7    43  105.651163   49.325581   3.712927    0.992855         False   \n",
       "8    39  168.538462  148.102564   3.575981    0.970788         False   \n",
       "\n",
       "   innerfrac  \n",
       "1   0.543478  \n",
       "2   0.520548  \n",
       "4   0.440000  \n",
       "5   0.458333  \n",
       "6   0.431818  \n",
       "7   0.372093  \n",
       "8   0.384615  "
      ]
     },
     "execution_count": 14,
     "metadata": {},
     "output_type": "execute_result"
    }
   ],
   "source": [
    "## The minimum particle size.\n",
    "min_size = 25\n",
    "\n",
    "## The minimum density.\n",
    "min_density = 0.5\n",
    "\n",
    "# Find clusters that aren't on the edge, have a minimum size of 25 pixels and\n",
    "# a minimum density of 0.8 using multiple conditions linked by AND & operators.\n",
    "kdf.loc[(kdf['isedgekluster']==False ) & ((kdf['size'] >= min_size) & (kdf['density_uw'] >= min_density))]"
   ]
  },
  {
   "cell_type": "code",
   "execution_count": 15,
   "metadata": {
    "collapsed": true
   },
   "outputs": [],
   "source": [
    "# Exercise 3: Particle spotting\n",
    "#\n",
    "# Use the make_kluster_image function to examine these particles more closely.\n",
    "#\n",
    "# What do you notice?"
   ]
  },
  {
   "cell_type": "markdown",
   "metadata": {},
   "source": [
    "Hmm... so we seem to be able to sort the particles into groups by requiring that they meet certain criteria. We can make use of this to automatically create lists of clusters that represent these groups, and then count them:"
   ]
  },
  {
   "cell_type": "code",
   "execution_count": 16,
   "metadata": {
    "collapsed": false
   },
   "outputs": [
    {
     "name": "stdout",
     "output_type": "stream",
     "text": [
      "4 big clusters found!\n"
     ]
    }
   ],
   "source": [
    "## A list of big particles!\n",
    "big_clusters = []\n",
    "\n",
    "# Loop over the clusters.\n",
    "for kluster in klusters:\n",
    "    # Apply the cut on cluster size.\n",
    "    if kluster.getNumberOfPixels() > 50:\n",
    "        # If it passes, add it to the list!\n",
    "        big_clusters.append(kluster)\n",
    "        \n",
    "print(\"%d big clusters found!\" % (len(big_clusters)))"
   ]
  },
  {
   "cell_type": "code",
   "execution_count": 17,
   "metadata": {
    "collapsed": true
   },
   "outputs": [],
   "source": [
    "# Exercise 4: Checking our working\n",
    "#\n",
    "# Use the DataFrame of clusters to check that there are indeed four \"big clusters\"\n",
    "# as defined here."
   ]
  },
  {
   "cell_type": "markdown",
   "metadata": {},
   "source": [
    "The other methods to get the cluster properties from a cluster are:\n",
    "\n",
    "* `getNumberOfPixels()` - the cluster size;\n",
    "* `getRadiusUW()` - the cluster radius;\n",
    "* `getDensityUW()` - the cluster density;\n",
    "* `getInnerPixelFraction()` - the fraction of pixels that are completely surrounded by other pixels;\n",
    "* `isEdgeCluster()` - returns True if the cluster is on the edge of the frame.\n",
    "\n",
    "So we can use multiple `if` statements and these values to sort the clusters in our `for` loop."
   ]
  },
  {
   "cell_type": "code",
   "execution_count": 18,
   "metadata": {
    "collapsed": false
   },
   "outputs": [
    {
     "name": "stdout",
     "output_type": "stream",
     "text": [
      "Number of alphas   =  34\n",
      "Number of betas    =   0\n",
      "Number of gammas   =   0\n",
      "Number of 'others' =   0\n",
      "------------------------\n",
      "TOTAL              =  34\n"
     ]
    }
   ],
   "source": [
    "# Exercise 5: GRAND CHALLENGE - COUNT THE ALPHAS, BETAS, AND GAMMAS\n",
    "#\n",
    "# Can you come up with a for loop containing a series of if statements\n",
    "# that will sort the clusters into four lists?\n",
    "#\n",
    "# We've made a start for you here - good luck!\n",
    "\n",
    "## A list of single alpha particles.\n",
    "alphas = []\n",
    "\n",
    "## A list of beta particles.\n",
    "betas = []\n",
    "\n",
    "## A list of gammas.\n",
    "gammas = []\n",
    "\n",
    "## A list of \"other\" particles.\n",
    "others = []\n",
    "\n",
    "# Add to the loop here:\n",
    "\n",
    "for kluster in klusters:\n",
    "    # Dummy if statement - you can do better!\n",
    "    if kluster.getNumberOfPixels() >= 1:\n",
    "        alphas.append(kluster)\n",
    "        \n",
    "print(\"Number of alphas   = % 3d\" % (len(alphas)))\n",
    "print(\"Number of betas    = % 3d\" % (len(betas)))\n",
    "print(\"Number of gammas   = % 3d\" % (len(gammas)))\n",
    "print(\"Number of 'others' = % 3d\" % (len(others)))\n",
    "print(\"------------------------\")\n",
    "print(\"TOTAL              = % 3d\" % (len(alphas) + len(betas) + len(gammas) + len(others)))"
   ]
  }
 ],
 "metadata": {
  "kernelspec": {
   "display_name": "Python [Root]",
   "language": "python",
   "name": "Python [Root]"
  },
  "language_info": {
   "codemirror_mode": {
    "name": "ipython",
    "version": 2
   },
   "file_extension": ".py",
   "mimetype": "text/x-python",
   "name": "python",
   "nbconvert_exporter": "python",
   "pygments_lexer": "ipython2",
   "version": "2.7.11"
  }
 },
 "nbformat": 4,
 "nbformat_minor": 0
}
